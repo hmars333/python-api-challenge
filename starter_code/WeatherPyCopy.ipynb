{
 "cells": [
  {
   "cell_type": "markdown",
   "metadata": {},
   "source": [
    "# WeatherPy\n",
    "----\n",
    "\n",
    "#### Note\n",
    "* Instructions have been included for each segment. You do not have to follow them exactly, but they are included to help you think through the steps."
   ]
  },
  {
   "cell_type": "code",
   "execution_count": 5,
   "metadata": {
    "scrolled": true
   },
   "outputs": [],
   "source": [
    "# Dependencies and Setup\n",
    "import matplotlib.pyplot as plt\n",
    "import pandas as pd\n",
    "import numpy as np\n",
    "import requests\n",
    "import time\n",
    "import json\n",
    "\n",
    "# Import API key\n",
    "from api_keys import api_key\n",
    "\n",
    "# Incorporated citipy to determine city based on latitude and longitude\n",
    "from citipy import citipy\n",
    "\n",
    "# Output File (CSV)\n",
    "output_data_file = \"output_data/cities.csv\"\n",
    "\n",
    "# Range of latitudes and longitudes\n",
    "lat_range = (-90, 90)\n",
    "lng_range = (-180, 180)"
   ]
  },
  {
   "cell_type": "markdown",
   "metadata": {},
   "source": [
    "## Generate Cities List"
   ]
  },
  {
   "cell_type": "code",
   "execution_count": 6,
   "metadata": {},
   "outputs": [
    {
     "data": {
      "text/plain": [
       "[(-83.98794327615708, 90.71255685495345),\n",
       " (29.265864241158553, -164.1033631236998),\n",
       " (-24.934188245619495, -139.0303403464682),\n",
       " (81.54832362203143, -44.481187674950064),\n",
       " (-79.8330183280964, 145.7925286782305)]"
      ]
     },
     "execution_count": 6,
     "metadata": {},
     "output_type": "execute_result"
    }
   ],
   "source": [
    "# List for holding lat_lngs and cities\n",
    "lat_lngs = []\n",
    "cities = []\n",
    "\n",
    "# Create a set of random lat and lng combinations\n",
    "lats = np.random.uniform(low=-90.000, high=90.000, size=1500)\n",
    "lngs = np.random.uniform(low=-180.000, high=180.000, size=1500)\n",
    "lat_lngs = list(zip(lats, lngs))\n",
    "\n",
    "# Identify nearest city for each lat, lng combination\n",
    "for lat_lng in lat_lngs:\n",
    "    city = citipy.nearest_city(lat_lng[0], lat_lng[1]).city_name\n",
    "    \n",
    "    # If the city is unique, then add it to a our cities list\n",
    "    if city not in cities:\n",
    "        cities.append(city)\n",
    "\n",
    "lat_lngs[0:5]"
   ]
  },
  {
   "cell_type": "code",
   "execution_count": 7,
   "metadata": {},
   "outputs": [
    {
     "data": {
      "text/plain": [
       "593"
      ]
     },
     "execution_count": 7,
     "metadata": {},
     "output_type": "execute_result"
    }
   ],
   "source": [
    "# Print the city count to confirm sufficient count\n",
    "len(cities)"
   ]
  },
  {
   "cell_type": "markdown",
   "metadata": {},
   "source": [
    "### Perform API Calls\n",
    "* Perform a weather check on each city using a series of successive API calls.\n",
    "* Include a print log of each city as it'sbeing processed (with the city number and city name).\n"
   ]
  },
  {
   "cell_type": "code",
   "execution_count": 8,
   "metadata": {},
   "outputs": [],
   "source": [
    "#API call\n",
    "url = \"http://api.openweathermap.org/data/2.5/weather?APPID=\"\n",
    "\n",
    "#collect info\n",
    "City_Name=[]\n",
    "City_ID=[]\n",
    "City_Lat= []\n",
    "City_Long=[]\n",
    "Max_Temp=[]\n",
    "Humidity=[]\n",
    "Cloud_Cover=[]\n",
    "Wind_Speed=[]\n",
    "Country=[]\n",
    "Date_Time=[]\n"
   ]
  },
  {
   "cell_type": "code",
   "execution_count": 9,
   "metadata": {},
   "outputs": [
    {
     "data": {
      "text/plain": [
       "{'coord': {'lon': 19.24, 'lat': -34.42},\n",
       " 'weather': [{'id': 803,\n",
       "   'main': 'Clouds',\n",
       "   'description': 'broken clouds',\n",
       "   'icon': '04n'}],\n",
       " 'base': 'stations',\n",
       " 'main': {'temp': 287.78,\n",
       "  'pressure': 1012,\n",
       "  'humidity': 79,\n",
       "  'temp_min': 287.04,\n",
       "  'temp_max': 288.71},\n",
       " 'wind': {'speed': 1.34, 'deg': 304, 'gust': 3.58},\n",
       " 'rain': {'3h': 0.062},\n",
       " 'clouds': {'all': 51},\n",
       " 'dt': 1570151212,\n",
       " 'sys': {'type': 3,\n",
       "  'id': 2006131,\n",
       "  'message': 0.0055,\n",
       "  'country': 'ZA',\n",
       "  'sunrise': 1570162570,\n",
       "  'sunset': 1570207645},\n",
       " 'timezone': 7200,\n",
       " 'id': 3366880,\n",
       " 'name': 'Hermanus',\n",
       " 'cod': 200}"
      ]
     },
     "execution_count": 9,
     "metadata": {},
     "output_type": "execute_result"
    }
   ],
   "source": [
    "#getting Json response\n",
    "response= requests.get(f\"{url}&q={city}\").json()\n",
    "response"
   ]
  },
  {
   "cell_type": "code",
   "execution_count": 15,
   "metadata": {},
   "outputs": [
    {
     "ename": "SyntaxError",
     "evalue": "invalid syntax (<ipython-input-15-96c61971a420>, line 21)",
     "output_type": "error",
     "traceback": [
      "\u001b[1;36m  File \u001b[1;32m\"<ipython-input-15-96c61971a420>\"\u001b[1;36m, line \u001b[1;32m21\u001b[0m\n\u001b[1;33m    print(f\"Processing Record {response[\"name\"]}\")\u001b[0m\n\u001b[1;37m                                            ^\u001b[0m\n\u001b[1;31mSyntaxError\u001b[0m\u001b[1;31m:\u001b[0m invalid syntax\n"
     ]
    }
   ],
   "source": [
    "#retrieve data, appending lists with random city\n",
    "print(f\"Beginning Data Retrieval\")\n",
    "print(f\"-----------------------------------\")\n",
    "#loop through cities, API call\n",
    "\n",
    "for city in cities:\n",
    "     \n",
    "   # ry:\n",
    "    response= requests.get(f\"{url}&q={city}\").json()\n",
    "    City_Name.append(response[\"name\"])\n",
    "    City_ID.append(response[\"sys\"][\"id\"])\n",
    "    City_Lat.append(response[\"coord\"][\"lat\"])\n",
    "    City_Long.append(response[\"coord\"][\"lon\"])\n",
    "    Max_Temp.append(response[\"main\"][\"temp_max\"])\n",
    "    Humidity.append(response[\"main\"][\"humidity\"])\n",
    "    Cloud_Cover.append(response[\"clouds\"][\"all\"])\n",
    "    Wind_Speed.append(response[\"wind\"][\"speed\"])\n",
    "    Country.append(response[\"sys\"][\"country\"])\n",
    "    Date_Time.append(response[\"dt\"])\n",
    "\n",
    "    print(f\"Processing Record {response[\"name\"]}\")\n",
    "    print(f\"{url}&q={city}\")\n",
    "\n",
    "\n",
    "    time.sleep(1.01)\n",
    "    \n",
    "    #except:\n",
    "    print(\"City not found. Moving onto next...\")\n",
    "    \n",
    "    continue\n",
    "        "
   ]
  },
  {
   "cell_type": "code",
   "execution_count": 14,
   "metadata": {},
   "outputs": [
    {
     "data": {
      "text/plain": [
       "[2006131,\n",
       " 8776,\n",
       " 9525,\n",
       " 9576,\n",
       " 7877,\n",
       " 8875,\n",
       " 1966,\n",
       " 7881,\n",
       " 1265,\n",
       " 794,\n",
       " 820,\n",
       " 9545,\n",
       " 8571,\n",
       " 8487,\n",
       " 6912,\n",
       " 9356,\n",
       " 4279,\n",
       " 2011314,\n",
       " 2008959,\n",
       " 7348,\n",
       " 7076,\n",
       " 5098,\n",
       " 2061,\n",
       " 4883,\n",
       " 9545,\n",
       " 7684,\n",
       " 7640,\n",
       " 9483,\n",
       " 4127,\n",
       " 8303,\n",
       " 1676,\n",
       " 5209,\n",
       " 796,\n",
       " 2061,\n",
       " 7292,\n",
       " 1899,\n",
       " 2453,\n",
       " 38264,\n",
       " 7113,\n",
       " 8926,\n",
       " 7879,\n",
       " 6276,\n",
       " 8363,\n",
       " 7873,\n",
       " 2288,\n",
       " 942,\n",
       " 2011706,\n",
       " 6070,\n",
       " 3476,\n",
       " 7151,\n",
       " 9229,\n",
       " 9372,\n",
       " 5454,\n",
       " 9566,\n",
       " 876,\n",
       " 9063,\n",
       " 7955,\n",
       " 2021131,\n",
       " 8514,\n",
       " 9560,\n",
       " 7432,\n",
       " 810,\n",
       " 2001764,\n",
       " 8712,\n",
       " 2131,\n",
       " 776,\n",
       " 4360,\n",
       " 9610,\n",
       " 998,\n",
       " 3409,\n",
       " 6895,\n",
       " 7157,\n",
       " 6668,\n",
       " 3849,\n",
       " 3198,\n",
       " 8521,\n",
       " 7271,\n",
       " 6899,\n",
       " 9549,\n",
       " 4332,\n",
       " 47,\n",
       " 2444,\n",
       " 8600,\n",
       " 8413,\n",
       " 6621,\n",
       " 7140,\n",
       " 1615,\n",
       " 3273,\n",
       " 1602,\n",
       " 6449,\n",
       " 4981,\n",
       " 1524,\n",
       " 4747,\n",
       " 7053,\n",
       " 2008959,\n",
       " 8512,\n",
       " 4042,\n",
       " 2020550,\n",
       " 6663,\n",
       " 8329,\n",
       " 7306,\n",
       " 20853,\n",
       " 819,\n",
       " 1467,\n",
       " 81,\n",
       " 8951,\n",
       " 7162,\n",
       " 6574,\n",
       " 1596,\n",
       " 2002341,\n",
       " 8701,\n",
       " 1260,\n",
       " 2377,\n",
       " 9487,\n",
       " 1643,\n",
       " 8963,\n",
       " 2016422,\n",
       " 833,\n",
       " 797,\n",
       " 951,\n",
       " 8834,\n",
       " 5946,\n",
       " 4068,\n",
       " 2000217,\n",
       " 9378,\n",
       " 1017,\n",
       " 6874,\n",
       " 2061,\n",
       " 7265,\n",
       " 2010964,\n",
       " 2389,\n",
       " 6139,\n",
       " 2025,\n",
       " 1768,\n",
       " 268047,\n",
       " 2001378,\n",
       " 7318,\n",
       " 90,\n",
       " 8434,\n",
       " 2131,\n",
       " 7680,\n",
       " 5325,\n",
       " 2007154,\n",
       " 1007,\n",
       " 8512,\n",
       " 165,\n",
       " 1663,\n",
       " 8315,\n",
       " 1276,\n",
       " 5797,\n",
       " 8605,\n",
       " 9020,\n",
       " 2013573,\n",
       " 1616,\n",
       " 8238,\n",
       " 9020,\n",
       " 8772,\n",
       " 6535,\n",
       " 2090,\n",
       " 935,\n",
       " 3269,\n",
       " 7103,\n",
       " 2000288,\n",
       " 6634,\n",
       " 5416,\n",
       " 9490,\n",
       " 979,\n",
       " 6607,\n",
       " 6359,\n",
       " 8831,\n",
       " 1273,\n",
       " 7562,\n",
       " 7317,\n",
       " 2462,\n",
       " 949,\n",
       " 7976,\n",
       " 1181,\n",
       " 7396,\n",
       " 762,\n",
       " 1011,\n",
       " 7205,\n",
       " 4706,\n",
       " 2297,\n",
       " 6434,\n",
       " 47,\n",
       " 5330,\n",
       " 7318,\n",
       " 8691,\n",
       " 6385,\n",
       " 8964,\n",
       " 8452,\n",
       " 877,\n",
       " 9491,\n",
       " 2,\n",
       " 818,\n",
       " 7481,\n",
       " 6507,\n",
       " 861,\n",
       " 747,\n",
       " 7684,\n",
       " 3860,\n",
       " 5715,\n",
       " 8391,\n",
       " 8779,\n",
       " 86,\n",
       " 6892,\n",
       " 9639,\n",
       " 8669,\n",
       " 879,\n",
       " 8352,\n",
       " 7139,\n",
       " 6836,\n",
       " 7962,\n",
       " 7103,\n",
       " 90,\n",
       " 735,\n",
       " 4102,\n",
       " 8586,\n",
       " 3386,\n",
       " 1617,\n",
       " 1098,\n",
       " 9585,\n",
       " 6249,\n",
       " 60523,\n",
       " 2016422,\n",
       " 3498,\n",
       " 2019898,\n",
       " 6962,\n",
       " 8060,\n",
       " 2009948,\n",
       " 1647,\n",
       " 2061,\n",
       " 2011050,\n",
       " 7537,\n",
       " 9537,\n",
       " 8887,\n",
       " 8308,\n",
       " 4676,\n",
       " 9613,\n",
       " 1440,\n",
       " 8491,\n",
       " 1338,\n",
       " 816,\n",
       " 7411,\n",
       " 8452,\n",
       " 9545,\n",
       " 2017699,\n",
       " 2380,\n",
       " 8143,\n",
       " 1820,\n",
       " 1681,\n",
       " 9371,\n",
       " 9112,\n",
       " 8904,\n",
       " 5002,\n",
       " 9496,\n",
       " 4127,\n",
       " 8546,\n",
       " 8550,\n",
       " 6961,\n",
       " 8905,\n",
       " 9566,\n",
       " 7493,\n",
       " 9325,\n",
       " 2012545,\n",
       " 2012853,\n",
       " 1636,\n",
       " 6902,\n",
       " 6452,\n",
       " 9526,\n",
       " 6989,\n",
       " 986,\n",
       " 2924,\n",
       " 1662,\n",
       " 4417,\n",
       " 9527,\n",
       " 2007568,\n",
       " 4000,\n",
       " 1767]"
      ]
     },
     "execution_count": 14,
     "metadata": {},
     "output_type": "execute_result"
    }
   ],
   "source": []
  },
  {
   "cell_type": "code",
   "execution_count": 10,
   "metadata": {},
   "outputs": [],
   "source": [
    "weather_api={\"City Name\": City_Name, \"City ID\": City_ID, \"Latitude\": City_Lat, \"Longitude\": City_Long,\n",
    "             \"Maximum Temperature\": Max_Temp, \"Humidity\": Humidity, \"Cloudiness\": Cloud_Cover, \n",
    "             \"Wind Speed\": Wind_Speed, \"Country\": Country, \"Date\": Date_Time}\n",
    "\n",
    "\n"
   ]
  },
  {
   "cell_type": "code",
   "execution_count": 11,
   "metadata": {},
   "outputs": [],
   "source": [
    "weather_api\n",
    "weather_data=pd.DataFrame(weather_api)\n"
   ]
  },
  {
   "cell_type": "markdown",
   "metadata": {},
   "source": [
    "### Convert Raw Data to DataFrame\n",
    "* Export the city data into a .csv.\n",
    "* Display the DataFrame"
   ]
  },
  {
   "cell_type": "code",
   "execution_count": 12,
   "metadata": {
    "scrolled": true
   },
   "outputs": [
    {
     "data": {
      "text/plain": [
       "City Name              279\n",
       "City ID                279\n",
       "Latitude               279\n",
       "Longitude              279\n",
       "Maximum Temperature    279\n",
       "Humidity               279\n",
       "Cloudiness             279\n",
       "Wind Speed             279\n",
       "Country                279\n",
       "Date                   279\n",
       "dtype: int64"
      ]
     },
     "execution_count": 12,
     "metadata": {},
     "output_type": "execute_result"
    }
   ],
   "source": [
    "weather_data.count()"
   ]
  },
  {
   "cell_type": "code",
   "execution_count": 13,
   "metadata": {},
   "outputs": [
    {
     "data": {
      "text/html": [
       "<div>\n",
       "<style scoped>\n",
       "    .dataframe tbody tr th:only-of-type {\n",
       "        vertical-align: middle;\n",
       "    }\n",
       "\n",
       "    .dataframe tbody tr th {\n",
       "        vertical-align: top;\n",
       "    }\n",
       "\n",
       "    .dataframe thead th {\n",
       "        text-align: right;\n",
       "    }\n",
       "</style>\n",
       "<table border=\"1\" class=\"dataframe\">\n",
       "  <thead>\n",
       "    <tr style=\"text-align: right;\">\n",
       "      <th></th>\n",
       "      <th>City Name</th>\n",
       "      <th>City ID</th>\n",
       "      <th>Latitude</th>\n",
       "      <th>Longitude</th>\n",
       "      <th>Maximum Temperature</th>\n",
       "      <th>Humidity</th>\n",
       "      <th>Cloudiness</th>\n",
       "      <th>Wind Speed</th>\n",
       "      <th>Country</th>\n",
       "      <th>Date</th>\n",
       "    </tr>\n",
       "  </thead>\n",
       "  <tbody>\n",
       "    <tr>\n",
       "      <td>0</td>\n",
       "      <td>Sundsvall</td>\n",
       "      <td>2006131</td>\n",
       "      <td>-34.42</td>\n",
       "      <td>19.24</td>\n",
       "      <td>289.26</td>\n",
       "      <td>78</td>\n",
       "      <td>51</td>\n",
       "      <td>1.34</td>\n",
       "      <td>ZA</td>\n",
       "      <td>1570149688</td>\n",
       "    </tr>\n",
       "    <tr>\n",
       "      <td>1</td>\n",
       "      <td>Sundsvall</td>\n",
       "      <td>8776</td>\n",
       "      <td>6.80</td>\n",
       "      <td>-58.16</td>\n",
       "      <td>301.15</td>\n",
       "      <td>78</td>\n",
       "      <td>0</td>\n",
       "      <td>3.10</td>\n",
       "      <td>GY</td>\n",
       "      <td>1570149446</td>\n",
       "    </tr>\n",
       "    <tr>\n",
       "      <td>2</td>\n",
       "      <td>Sundsvall</td>\n",
       "      <td>9525</td>\n",
       "      <td>-33.86</td>\n",
       "      <td>121.89</td>\n",
       "      <td>286.15</td>\n",
       "      <td>87</td>\n",
       "      <td>90</td>\n",
       "      <td>8.20</td>\n",
       "      <td>AU</td>\n",
       "      <td>1570149691</td>\n",
       "    </tr>\n",
       "    <tr>\n",
       "      <td>3</td>\n",
       "      <td>Sundsvall</td>\n",
       "      <td>9576</td>\n",
       "      <td>-12.18</td>\n",
       "      <td>136.78</td>\n",
       "      <td>302.15</td>\n",
       "      <td>54</td>\n",
       "      <td>20</td>\n",
       "      <td>5.70</td>\n",
       "      <td>AU</td>\n",
       "      <td>1570149706</td>\n",
       "    </tr>\n",
       "    <tr>\n",
       "      <td>4</td>\n",
       "      <td>Sundsvall</td>\n",
       "      <td>7877</td>\n",
       "      <td>21.39</td>\n",
       "      <td>-157.74</td>\n",
       "      <td>304.26</td>\n",
       "      <td>62</td>\n",
       "      <td>20</td>\n",
       "      <td>6.70</td>\n",
       "      <td>US</td>\n",
       "      <td>1570149708</td>\n",
       "    </tr>\n",
       "    <tr>\n",
       "      <td>...</td>\n",
       "      <td>...</td>\n",
       "      <td>...</td>\n",
       "      <td>...</td>\n",
       "      <td>...</td>\n",
       "      <td>...</td>\n",
       "      <td>...</td>\n",
       "      <td>...</td>\n",
       "      <td>...</td>\n",
       "      <td>...</td>\n",
       "      <td>...</td>\n",
       "    </tr>\n",
       "    <tr>\n",
       "      <td>274</td>\n",
       "      <td>Sundsvall</td>\n",
       "      <td>4417</td>\n",
       "      <td>35.09</td>\n",
       "      <td>-78.48</td>\n",
       "      <td>303.71</td>\n",
       "      <td>74</td>\n",
       "      <td>1</td>\n",
       "      <td>1.29</td>\n",
       "      <td>US</td>\n",
       "      <td>1570150118</td>\n",
       "    </tr>\n",
       "    <tr>\n",
       "      <td>275</td>\n",
       "      <td>Sundsvall</td>\n",
       "      <td>9527</td>\n",
       "      <td>-13.85</td>\n",
       "      <td>136.42</td>\n",
       "      <td>304.15</td>\n",
       "      <td>40</td>\n",
       "      <td>0</td>\n",
       "      <td>7.70</td>\n",
       "      <td>AU</td>\n",
       "      <td>1570150119</td>\n",
       "    </tr>\n",
       "    <tr>\n",
       "      <td>276</td>\n",
       "      <td>Sundsvall</td>\n",
       "      <td>2007568</td>\n",
       "      <td>33.05</td>\n",
       "      <td>35.18</td>\n",
       "      <td>295.37</td>\n",
       "      <td>87</td>\n",
       "      <td>0</td>\n",
       "      <td>1.88</td>\n",
       "      <td>IL</td>\n",
       "      <td>1570150121</td>\n",
       "    </tr>\n",
       "    <tr>\n",
       "      <td>277</td>\n",
       "      <td>Sundsvall</td>\n",
       "      <td>4000</td>\n",
       "      <td>30.30</td>\n",
       "      <td>-99.24</td>\n",
       "      <td>302.59</td>\n",
       "      <td>39</td>\n",
       "      <td>1</td>\n",
       "      <td>5.46</td>\n",
       "      <td>US</td>\n",
       "      <td>1570149955</td>\n",
       "    </tr>\n",
       "    <tr>\n",
       "      <td>278</td>\n",
       "      <td>Sundsvall</td>\n",
       "      <td>1767</td>\n",
       "      <td>62.39</td>\n",
       "      <td>17.31</td>\n",
       "      <td>274.26</td>\n",
       "      <td>89</td>\n",
       "      <td>58</td>\n",
       "      <td>4.10</td>\n",
       "      <td>SE</td>\n",
       "      <td>1570150124</td>\n",
       "    </tr>\n",
       "  </tbody>\n",
       "</table>\n",
       "<p>279 rows × 10 columns</p>\n",
       "</div>"
      ],
      "text/plain": [
       "     City Name  City ID  Latitude  Longitude  Maximum Temperature  Humidity  \\\n",
       "0    Sundsvall  2006131    -34.42      19.24               289.26        78   \n",
       "1    Sundsvall     8776      6.80     -58.16               301.15        78   \n",
       "2    Sundsvall     9525    -33.86     121.89               286.15        87   \n",
       "3    Sundsvall     9576    -12.18     136.78               302.15        54   \n",
       "4    Sundsvall     7877     21.39    -157.74               304.26        62   \n",
       "..         ...      ...       ...        ...                  ...       ...   \n",
       "274  Sundsvall     4417     35.09     -78.48               303.71        74   \n",
       "275  Sundsvall     9527    -13.85     136.42               304.15        40   \n",
       "276  Sundsvall  2007568     33.05      35.18               295.37        87   \n",
       "277  Sundsvall     4000     30.30     -99.24               302.59        39   \n",
       "278  Sundsvall     1767     62.39      17.31               274.26        89   \n",
       "\n",
       "     Cloudiness  Wind Speed Country        Date  \n",
       "0            51        1.34      ZA  1570149688  \n",
       "1             0        3.10      GY  1570149446  \n",
       "2            90        8.20      AU  1570149691  \n",
       "3            20        5.70      AU  1570149706  \n",
       "4            20        6.70      US  1570149708  \n",
       "..          ...         ...     ...         ...  \n",
       "274           1        1.29      US  1570150118  \n",
       "275           0        7.70      AU  1570150119  \n",
       "276           0        1.88      IL  1570150121  \n",
       "277           1        5.46      US  1570149955  \n",
       "278          58        4.10      SE  1570150124  \n",
       "\n",
       "[279 rows x 10 columns]"
      ]
     },
     "execution_count": 13,
     "metadata": {},
     "output_type": "execute_result"
    }
   ],
   "source": [
    "weather_data"
   ]
  },
  {
   "cell_type": "code",
   "execution_count": 34,
   "metadata": {
    "scrolled": true
   },
   "outputs": [],
   "source": [
    "weather_data.to_csv(\"CityData.csv\")"
   ]
  },
  {
   "cell_type": "markdown",
   "metadata": {},
   "source": [
    "### Plotting the Data\n",
    "* Use proper labeling of the plots using plot titles (including date of analysis) and axes labels.\n",
    "* Save the plotted figures as .pngs."
   ]
  },
  {
   "cell_type": "markdown",
   "metadata": {},
   "source": [
    "#### Latitude vs. Temperature Plot"
   ]
  },
  {
   "cell_type": "code",
   "execution_count": 36,
   "metadata": {},
   "outputs": [
    {
     "data": {
      "image/png": "[encoded data removed]",
      "text/plain": [
       "<Figure size 432x288 with 1 Axes>"
      ]
     },
     "metadata": {
      "needs_background": "light"
     },
     "output_type": "display_data"
    }
   ],
   "source": [
    "x_values = weather_data['Latitude']\n",
    "y_values = weather_data['Maximum Temperature']\n",
    "plt.scatter(x_values,y_values)\n",
    "plt.xlabel('Latitude')\n",
    "plt.ylabel('Max Temp (F)')\n",
    "plt.show()"
   ]
  },
  {
   "cell_type": "code",
   "execution_count": 37,
   "metadata": {},
   "outputs": [
    {
     "data": {
      "text/plain": [
       "<Figure size 432x288 with 0 Axes>"
      ]
     },
     "metadata": {},
     "output_type": "display_data"
    }
   ],
   "source": [
    "plt.savefig('Lat_vs_Temp.png')"
   ]
  },
  {
   "cell_type": "markdown",
   "metadata": {},
   "source": [
    "#### Latitude vs. Humidity Plot"
   ]
  },
  {
   "cell_type": "code",
   "execution_count": 38,
   "metadata": {
    "scrolled": true
   },
   "outputs": [
    {
     "data": {
      "image/png": "[encoded data removed]",
      "text/plain": [
       "<Figure size 432x288 with 1 Axes>"
      ]
     },
     "metadata": {
      "needs_background": "light"
     },
     "output_type": "display_data"
    }
   ],
   "source": [
    "x_values = weather_data['Latitude']\n",
    "y_values = weather_data['Humidity']\n",
    "plt.scatter(x_values,y_values)\n",
    "plt.xlabel('Latitude')\n",
    "plt.ylabel('Humidity')\n",
    "plt.show()"
   ]
  },
  {
   "cell_type": "code",
   "execution_count": 39,
   "metadata": {},
   "outputs": [
    {
     "data": {
      "text/plain": [
       "<Figure size 432x288 with 0 Axes>"
      ]
     },
     "metadata": {},
     "output_type": "display_data"
    }
   ],
   "source": [
    "plt.savefig('Lat_vs_Hum.png')"
   ]
  },
  {
   "cell_type": "markdown",
   "metadata": {},
   "source": [
    "#### Latitude vs. Cloudiness Plot"
   ]
  },
  {
   "cell_type": "code",
   "execution_count": 40,
   "metadata": {
    "scrolled": true
   },
   "outputs": [
    {
     "data": {
      "image/png": "[encoded data removed]",
      "text/plain": [
       "<Figure size 432x288 with 1 Axes>"
      ]
     },
     "metadata": {
      "needs_background": "light"
     },
     "output_type": "display_data"
    }
   ],
   "source": [
    "x_values = weather_data['Latitude']\n",
    "y_values = weather_data['Cloudiness']\n",
    "plt.scatter(x_values,y_values)\n",
    "plt.xlabel('Latitude')\n",
    "plt.ylabel('Cloudiness')\n",
    "plt.show()"
   ]
  },
  {
   "cell_type": "code",
   "execution_count": 41,
   "metadata": {},
   "outputs": [
    {
     "data": {
      "text/plain": [
       "<Figure size 432x288 with 0 Axes>"
      ]
     },
     "metadata": {},
     "output_type": "display_data"
    }
   ],
   "source": [
    "plt.savefig('CityLat_vs_Cloud.png')"
   ]
  },
  {
   "cell_type": "markdown",
   "metadata": {},
   "source": [
    "#### Latitude vs. Wind Speed Plot"
   ]
  },
  {
   "cell_type": "code",
   "execution_count": 42,
   "metadata": {},
   "outputs": [
    {
     "data": {
      "image/png": "[encoded data removed]",
      "text/plain": [
       "<Figure size 432x288 with 1 Axes>"
      ]
     },
     "metadata": {
      "needs_background": "light"
     },
     "output_type": "display_data"
    }
   ],
   "source": [
    "x_values = weather_data['Latitude']\n",
    "y_values = weather_data['Wind Speed']\n",
    "plt.scatter(x_values,y_values)\n",
    "plt.xlabel('Latitude')\n",
    "plt.ylabel('Wind Speed(mph)')\n",
    "plt.show()"
   ]
  },
  {
   "cell_type": "code",
   "execution_count": 43,
   "metadata": {},
   "outputs": [
    {
     "data": {
      "text/plain": [
       "<Figure size 432x288 with 0 Axes>"
      ]
     },
     "metadata": {},
     "output_type": "display_data"
    }
   ],
   "source": [
    "plt.savefig('City_Lat_vs_Wind.png')"
   ]
  },
  {
   "cell_type": "code",
   "execution_count": null,
   "metadata": {},
   "outputs": [],
   "source": []
  }
 ],
 "metadata": {
  "anaconda-cloud": {},
  "kernel_info": {
   "name": "python3"
  },
  "kernelspec": {
   "display_name": "Python [conda env:.conda-PythonData] *",
   "language": "python",
   "name": "conda-env-.conda-PythonData-py"
  },
  "language_info": {
   "codemirror_mode": {
    "name": "ipython",
    "version": 3
   },
   "file_extension": ".py",
   "mimetype": "text/x-python",
   "name": "python",
   "nbconvert_exporter": "python",
   "pygments_lexer": "ipython3",
   "version": "3.6.9"
  },
  "nteract": {
   "version": "0.12.3"
  },
  "toc": {
   "base_numbering": 1,
   "nav_menu": {},
   "number_sections": true,
   "sideBar": true,
   "skip_h1_title": false,
   "title_cell": "Table of Contents",
   "title_sidebar": "Contents",
   "toc_cell": false,
   "toc_position": {},
   "toc_section_display": true,
   "toc_window_display": false
  }
 },
 "nbformat": 4,
 "nbformat_minor": 2
}
